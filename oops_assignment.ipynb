{
  "nbformat": 4,
  "nbformat_minor": 0,
  "metadata": {
    "colab": {
      "provenance": []
    },
    "kernelspec": {
      "name": "python3",
      "display_name": "Python 3"
    },
    "language_info": {
      "name": "python"
    }
  },
  "cells": [
    {
      "cell_type": "markdown",
      "source": [
        "## **1. What are the five key concepts of Object-Oriented Programming (OOP)?**"
      ],
      "metadata": {
        "id": "EjAcKxZRdkeT"
      }
    },
    {
      "cell_type": "markdown",
      "source": [
        "###The five key concepts of Object-Oriented Programming (OOP) are:\n",
        "\n",
        "**Class**: A blueprint for creating objects (specific instances of that class). It defines a set of properties (attributes) and methods (behaviors) that the objects created from the class will have.\n",
        "\n",
        "**Object**: An instance of a class. Objects represent real-world entities and are created using the class definition. Each object can have unique values for the attributes defined in the class.\n",
        "\n",
        "**Encapsulation**: The concept of bundling the data (attributes) and methods that operate on the data within a single unit or class. It restricts direct access to some of an object's components, which is crucial for protecting the integrity of the object and hiding its internal state.\n",
        "\n",
        "**Inheritance**: The mechanism by which one class (child class) can inherit properties and behaviors (methods) from another class (parent class). This promotes code reuse and establishes a hierarchical relationship between classes.\n",
        "\n",
        "**Polymorphism**: The ability of different objects to be accessed through the same interface, with each object responding to the method call in a way appropriate to its specific class. It allows methods to be defined in multiple forms, increasing flexibility and scalability in code.\n",
        "\n",
        "These concepts form the foundation of OOP, facilitating modularity, reusability, and the organized management of code.\n",
        "\n",
        "\n",
        "\n",
        "\n",
        "\n",
        "\n",
        "\n",
        "\n",
        "\n",
        "\n"
      ],
      "metadata": {
        "id": "OvyOT8wYdr1a"
      }
    },
    {
      "cell_type": "markdown",
      "source": [
        "## **2. Write a Python class for a `Car` with attributes for `make`, `model`, and `year`. Include a method to display the car's information.**"
      ],
      "metadata": {
        "id": "GBDBUXvdeWoB"
      }
    },
    {
      "cell_type": "markdown",
      "source": [
        "### Here's a Python class for a Car with attributes for make, model, and year, along with a method to display the car's information:"
      ],
      "metadata": {
        "id": "TO6GMXaNfAS4"
      }
    },
    {
      "cell_type": "code",
      "source": [
        "class Car:\n",
        "    def __init__(self, make, model, year):\n",
        "        self.make = make\n",
        "        self.model = model\n",
        "        self.year = year\n",
        "\n",
        "    def display_info(self):\n",
        "        return f\"{self.year} {self.make} {self.model}\"\n"
      ],
      "metadata": {
        "id": "YgchUb9lfFWE"
      },
      "execution_count": null,
      "outputs": []
    },
    {
      "cell_type": "markdown",
      "source": [
        "### For example, creating a Car object and displaying its information:"
      ],
      "metadata": {
        "id": "erDIblTVfTsA"
      }
    },
    {
      "cell_type": "code",
      "source": [
        "car = Car(\"Maruti\", \"swift\", 2024)\n",
        "print(car.display_info())\n"
      ],
      "metadata": {
        "colab": {
          "base_uri": "https://localhost:8080/"
        },
        "id": "HnsHqyzvfTRW",
        "outputId": "93544503-696c-4ce9-a5ca-57c351d4e35a"
      },
      "execution_count": null,
      "outputs": [
        {
          "output_type": "stream",
          "name": "stdout",
          "text": [
            "2024 Maruti swift\n"
          ]
        }
      ]
    },
    {
      "cell_type": "markdown",
      "source": [
        "## **3.Explain the difference between instance methods and class methods. Provide an example of each**"
      ],
      "metadata": {
        "id": "cOg_nvGYgHNt"
      }
    },
    {
      "cell_type": "markdown",
      "source": [
        "### Instance Methods:\n",
        "\n",
        "Definition: These methods operate on instances of the class (objects). They have access to the instance's attributes and other instance methods via the self parameter.\n",
        "Usage: Most commonly used methods in a class. They allow an object to manipulate its internal state and work with other instance-specific data.\n",
        "Invocation: Called on an instance of the class."
      ],
      "metadata": {
        "id": "X9vTR8M1gOee"
      }
    },
    {
      "cell_type": "code",
      "source": [
        "class Car:\n",
        "    def __init__(self, make, model, year):\n",
        "        self.make = make\n",
        "        self.model = model\n",
        "        self.year = year\n",
        "\n",
        "    # Instance method\n",
        "    def display_info(self):\n",
        "        return f\"{self.year} {self.make} {self.model}\"\n",
        "\n",
        "car = Car(\"swift\", \"vitara\", 2024)\n",
        "print(car.display_info())\n"
      ],
      "metadata": {
        "colab": {
          "base_uri": "https://localhost:8080/"
        },
        "id": "ihoIVQp1ggSu",
        "outputId": "e9d153be-1408-4d02-e142-739757c5592e"
      },
      "execution_count": null,
      "outputs": [
        {
          "output_type": "stream",
          "name": "stdout",
          "text": [
            "2024 swift vitara\n"
          ]
        }
      ]
    },
    {
      "cell_type": "markdown",
      "source": [
        "### Class Methods:\n",
        "\n",
        "Definition: These methods are bound to the class rather than the instance of the class. They use the @classmethod decorator and take cls as the first parameter, which refers to the class itself.\n",
        "Usage: Typically used to perform actions that are relevant to the class as a whole, rather than individual instances. Often used to create factory methods or alter class-level data.\n",
        "Invocation: Called on the class itself or on an instance, but still operates at the class level"
      ],
      "metadata": {
        "id": "o9VYzEEXgxpb"
      }
    },
    {
      "cell_type": "code",
      "source": [
        "class Car:\n",
        "    cars_sold = 0  # Class attribute\n",
        "\n",
        "    def __init__(self, make, model, year):\n",
        "        self.make = make\n",
        "        self.model = model\n",
        "        self.year = year\n",
        "        Car.cars_sold += 2\n",
        "\n",
        "    @classmethod\n",
        "    def total_cars_sold(cls):\n",
        "        return f\"Total cars sold: {cls.cars_sold}\"\n",
        "\n",
        "car1 = Car(\"Mahindra\", \"Thar\", 2023)\n",
        "car2 = Car(\"Honda\", \"WR-V\", 2021)\n",
        "print(Car.total_cars_sold())\n"
      ],
      "metadata": {
        "colab": {
          "base_uri": "https://localhost:8080/"
        },
        "id": "dKwW-65tg352",
        "outputId": "41aa09dc-2da1-463d-fa04-db5fcdb88b63"
      },
      "execution_count": null,
      "outputs": [
        {
          "output_type": "stream",
          "name": "stdout",
          "text": [
            "Total cars sold: 4\n"
          ]
        }
      ]
    },
    {
      "cell_type": "markdown",
      "source": [
        "#### Instance methods: Use self, operate on individual object data.\n",
        "####Class methods: Use cls, operate on class-level data, typically used for class-wide behavior."
      ],
      "metadata": {
        "id": "g_oXpD6ah3XB"
      }
    },
    {
      "cell_type": "markdown",
      "source": [
        "## **4.How does Python implement method overloading? Give an example.**"
      ],
      "metadata": {
        "id": "C6os0xVk4jxW"
      }
    },
    {
      "cell_type": "markdown",
      "source": [
        "### In Python, method overloading (where multiple methods with the same name but different signatures exist) is not natively supported as in languages like Java or C++. Instead, Python implements a form of method overloading by handling arguments dynamically within a single method."
      ],
      "metadata": {
        "id": "7Ar6g4LB4570"
      }
    },
    {
      "cell_type": "code",
      "source": [
        "class Example:\n",
        "    def add(self, a=None, b=None, c=None):\n",
        "        if a is not None and b is not None and c is not None:\n",
        "            return a + b + c\n",
        "        elif a is not None and b is not None:\n",
        "            return a + b\n",
        "        elif a is not None:\n",
        "            return a\n",
        "        else:\n",
        "            return \"No arguments provided\"\n",
        "\n",
        "# Using the class\n",
        "example = Example()\n",
        "\n",
        "print(example.add(4, 2, 3))\n"
      ],
      "metadata": {
        "colab": {
          "base_uri": "https://localhost:8080/"
        },
        "id": "0Ny7qgmR5YN5",
        "outputId": "8a434f62-5b01-481a-d03f-68a6ddd54ba0"
      },
      "execution_count": 4,
      "outputs": [
        {
          "output_type": "stream",
          "name": "stdout",
          "text": [
            "9\n"
          ]
        }
      ]
    },
    {
      "cell_type": "code",
      "source": [
        "print(example.add(1, 5,))"
      ],
      "metadata": {
        "colab": {
          "base_uri": "https://localhost:8080/"
        },
        "id": "eJlLnjHd5nCn",
        "outputId": "63fbe38b-7b8d-439f-b5e2-0b76121825f8"
      },
      "execution_count": 5,
      "outputs": [
        {
          "output_type": "stream",
          "name": "stdout",
          "text": [
            "6\n"
          ]
        }
      ]
    },
    {
      "cell_type": "code",
      "source": [
        "print(example.add(1, 2,))"
      ],
      "metadata": {
        "colab": {
          "base_uri": "https://localhost:8080/"
        },
        "id": "v5tOD7sk5wl8",
        "outputId": "5b594c45-bcdb-4969-bcab-7e2f7637ec94"
      },
      "execution_count": 6,
      "outputs": [
        {
          "output_type": "stream",
          "name": "stdout",
          "text": [
            "3\n"
          ]
        }
      ]
    },
    {
      "cell_type": "markdown",
      "source": [
        "## Explanation:\n",
        "The add method checks how many arguments are provided and behaves accordingly.\n",
        "\n",
        "If 3 arguments are provided, it adds all of them.\n",
        "\n",
        "\n",
        "If 2 arguments are provided, it adds only those two.\n",
        "\n",
        "If only 1 argument is provided, it returns just that argument.\n",
        "\n",
        "If no arguments are provided, it returns a default message.\n",
        "\n",
        "This way, you can simulate method overloading in Python using conditional logic."
      ],
      "metadata": {
        "id": "9he8ol3s6MpR"
      }
    },
    {
      "cell_type": "markdown",
      "source": [
        "## **5. What are the three types of access modifiers in Python? How are they denoted?**"
      ],
      "metadata": {
        "id": "d-ccJYHk6v3O"
      }
    },
    {
      "cell_type": "markdown",
      "source": [
        "### In Python, there are three types of access modifiers to define the accessibility of class members (attributes and methods). However, Python does not enforce strict access control as in some other languages (like Java or C++). Instead, Python relies on naming conventions to indicate the intended accessibility of class members. The three types of access modifiers are:\n",
        "\n",
        "### 1.Public\n",
        "###Description: Public members are accessible from any part of the program. By default, all members (attributes and methods) of a class are public.Notation: No underscore before the member name\n",
        "."
      ],
      "metadata": {
        "id": "uUP6qhEE7WGV"
      }
    },
    {
      "cell_type": "code",
      "source": [
        "class MyClass:\n",
        "    def __init__(self):\n",
        "        self.public_var = \"I am public\"\n",
        "\n",
        "    def public_method(self):\n",
        "        return \"This is a public method\"\n",
        "\n",
        "obj = MyClass()\n",
        "print(obj.public_var)           # Accessible\n",
        "print(obj.public_method())       # Accessible\n"
      ],
      "metadata": {
        "colab": {
          "base_uri": "https://localhost:8080/"
        },
        "id": "ltXlgEsZ7YZK",
        "outputId": "ec143add-a9cd-4919-8706-c834b0941133"
      },
      "execution_count": 7,
      "outputs": [
        {
          "output_type": "stream",
          "name": "stdout",
          "text": [
            "I am public\n",
            "This is a public method\n"
          ]
        }
      ]
    },
    {
      "cell_type": "markdown",
      "source": [
        "### 2. **Protected**\n",
        "### Description: Protected members are intended to be accessed within the class and its subclasses. In Python, protected members can still be accessed from outside the class, but by convention, they are meant for internal use.\n",
        "### Notation: Single underscore _ before the member name."
      ],
      "metadata": {
        "id": "TjAIydzb75wE"
      }
    },
    {
      "cell_type": "code",
      "source": [
        "class MyClass:\n",
        "    def __init__(self):\n",
        "        self._protected_var = \"I am protected\"\n",
        "\n",
        "    def _protected_method(self):\n",
        "        return \"This is a protected method\"\n",
        "\n",
        "obj = MyClass()\n",
        "print(obj._protected_var)          # Accessible but should not be used directly\n",
        "print(obj._protected_method())     # Accessible but should not be used directly\n"
      ],
      "metadata": {
        "colab": {
          "base_uri": "https://localhost:8080/"
        },
        "id": "g6gXh06G7002",
        "outputId": "fcb79378-93e8-4287-ebec-2e8c5e2223d0"
      },
      "execution_count": 8,
      "outputs": [
        {
          "output_type": "stream",
          "name": "stdout",
          "text": [
            "I am protected\n",
            "This is a protected method\n"
          ]
        }
      ]
    },
    {
      "cell_type": "markdown",
      "source": [
        "### 3.**Private**\n",
        "### Description: Private members are intended to be accessible only within the class where they are defined. Python implements private access by name-mangling, which changes the name of the member to make it harder (but not impossible) to access from outside the class.\n",
        "### Notation: Double underscore __ before the member name."
      ],
      "metadata": {
        "id": "2ZX5yHFk8fxE"
      }
    },
    {
      "cell_type": "code",
      "source": [],
      "metadata": {
        "colab": {
          "base_uri": "https://localhost:8080/"
        },
        "id": "u0Cya7hD8n78",
        "outputId": "5e4338be-2acd-4455-b9c8-2624d2abe956"
      },
      "execution_count": 9,
      "outputs": [
        {
          "output_type": "stream",
          "name": "stdout",
          "text": [
            "I am private\n",
            "This is a private method\n"
          ]
        }
      ]
    },
    {
      "cell_type": "markdown",
      "source": [
        "### Summary of Notation:\n",
        "### Public: No underscore (public_var)\n",
        "### Protected: Single underscore (_protected_var)\n",
        "### Private: Double underscore (__private_var)"
      ],
      "metadata": {
        "id": "1Uys-55v8vwi"
      }
    },
    {
      "cell_type": "markdown",
      "source": [
        "## **6. Describe the five types of inheritance in Python. Provide a simple example of multiple inheritance**"
      ],
      "metadata": {
        "id": "DsedGLHY8__5"
      }
    },
    {
      "cell_type": "markdown",
      "source": [
        "### In Python, inheritance allows a class to acquire properties and behaviors (attributes and methods) from another class. Python supports five types of inheritance:\n",
        "### 1**.Single Inheritance**\n",
        "### Description: A class inherits from only one parent class."
      ],
      "metadata": {
        "id": "LlG-xk6z9gHC"
      }
    },
    {
      "cell_type": "code",
      "source": [
        "class Parent:\n",
        "    def show(self):\n",
        "        return \"This is the parent class\"\n",
        "\n",
        "class Child(Parent):\n",
        "    pass\n",
        "\n",
        "obj = Child()\n",
        "print(obj.show())  # Output: \"This is the parent class\"\n"
      ],
      "metadata": {
        "colab": {
          "base_uri": "https://localhost:8080/"
        },
        "id": "OmwBXNk89ubv",
        "outputId": "953aecd7-1d79-4be7-d846-e33e835579f8"
      },
      "execution_count": 10,
      "outputs": [
        {
          "output_type": "stream",
          "name": "stdout",
          "text": [
            "This is the parent class\n"
          ]
        }
      ]
    },
    {
      "cell_type": "markdown",
      "source": [
        "### 2. ***Multiple Inheritance***\n",
        "### Description: A class inherits from more than one parent class, combining the properties and behaviors of all the parent classes."
      ],
      "metadata": {
        "id": "IFAkzsUb93BA"
      }
    },
    {
      "cell_type": "code",
      "source": [
        "class Parent1:\n",
        "    def method1(self):\n",
        "        return \"This is method 1 from Parent1\"\n",
        "\n",
        "class Parent2:\n",
        "    def method2(self):\n",
        "        return \"This is method 2 from Parent2\"\n",
        "\n",
        "class Child(Parent1, Parent2):\n",
        "    pass\n",
        "\n",
        "obj = Child()\n",
        "print(obj.method1())  # Output: \"This is method 1 from Parent1\"\n",
        "print(obj.method2())  # Output: \"This is method 2 from Parent2\"\n"
      ],
      "metadata": {
        "colab": {
          "base_uri": "https://localhost:8080/"
        },
        "id": "lFt06vlA9_g8",
        "outputId": "e1a9d4ff-ba25-40bc-bf67-5f38d99fed2a"
      },
      "execution_count": 11,
      "outputs": [
        {
          "output_type": "stream",
          "name": "stdout",
          "text": [
            "This is method 1 from Parent1\n",
            "This is method 2 from Parent2\n"
          ]
        }
      ]
    },
    {
      "cell_type": "markdown",
      "source": [
        "### 3. **Multilevel Inheritance**\n",
        "### Description: A class inherits from a parent class, and the parent class itself is derived from another class, forming a chain of inheritance."
      ],
      "metadata": {
        "id": "5jHtVMRT-Fm2"
      }
    },
    {
      "cell_type": "code",
      "source": [
        "class Grandparent:\n",
        "    def method(self):\n",
        "        return \"This is the grandparent class\"\n",
        "\n",
        "class Parent(Grandparent):\n",
        "    pass\n",
        "\n",
        "class Child(Parent):\n",
        "    pass\n",
        "\n",
        "obj = Child()\n",
        "print(obj.method())  # Output: \"This is the grandparent class\"\n"
      ],
      "metadata": {
        "colab": {
          "base_uri": "https://localhost:8080/"
        },
        "id": "-z7Iz4DQ-na-",
        "outputId": "11caa811-451a-4abf-fce0-567ec6fc8d47"
      },
      "execution_count": 12,
      "outputs": [
        {
          "output_type": "stream",
          "name": "stdout",
          "text": [
            "This is the grandparent class\n"
          ]
        }
      ]
    },
    {
      "cell_type": "markdown",
      "source": [
        "### **4. Hierarchical Inheritance**\n",
        "### Description: Multiple child classes inherit from the same parent class"
      ],
      "metadata": {
        "id": "Nz7kSlNP-vPE"
      }
    },
    {
      "cell_type": "code",
      "source": [
        "class Parent:\n",
        "    def method(self):\n",
        "        return \"This is the parent class\"\n",
        "\n",
        "class Child1(Parent):\n",
        "    pass\n",
        "\n",
        "class Child2(Parent):\n",
        "    pass\n",
        "\n",
        "obj1 = Child1()\n",
        "obj2 = Child2()\n",
        "print(obj1.method())  # Output: \"This is the parent class\"\n",
        "print(obj2.method())  # Output: \"This is the parent class\"\n"
      ],
      "metadata": {
        "colab": {
          "base_uri": "https://localhost:8080/"
        },
        "id": "_D-Sb6-K-zWS",
        "outputId": "0ea812d2-21a7-4c50-8a79-e61c5aaf1bca"
      },
      "execution_count": 13,
      "outputs": [
        {
          "output_type": "stream",
          "name": "stdout",
          "text": [
            "This is the parent class\n",
            "This is the parent class\n"
          ]
        }
      ]
    },
    {
      "cell_type": "markdown",
      "source": [
        "### **5. Hybrid Inheritance**\n",
        "### Description: A combination of more than one type of inheritance, such as combining multiple inheritance and multilevel inheritance."
      ],
      "metadata": {
        "id": "FBRhT9pK-8G_"
      }
    },
    {
      "cell_type": "code",
      "source": [
        "class Base:\n",
        "    def base_method(self):\n",
        "        return \"This is the base class\"\n",
        "\n",
        "class Parent1(Base):\n",
        "    def method1(self):\n",
        "        return \"This is Parent1\"\n",
        "\n",
        "class Parent2(Base):\n",
        "    def method2(self):\n",
        "        return \"This is Parent2\"\n",
        "\n",
        "class Child(Parent1, Parent2):\n",
        "    pass\n",
        "\n",
        "obj = Child()\n",
        "print(obj.base_method())  # Output: \"This is the base class\"\n",
        "print(obj.method1())      # Output: \"This is Parent1\"\n",
        "print(obj.method2())      # Output: \"This is Parent2\"\n"
      ],
      "metadata": {
        "colab": {
          "base_uri": "https://localhost:8080/"
        },
        "id": "c-U5PHbE_Bri",
        "outputId": "df7aa2d8-5e65-4a1a-92f3-c80c6be9c91c"
      },
      "execution_count": 14,
      "outputs": [
        {
          "output_type": "stream",
          "name": "stdout",
          "text": [
            "This is the base class\n",
            "This is Parent1\n",
            "This is Parent2\n"
          ]
        }
      ]
    },
    {
      "cell_type": "markdown",
      "source": [
        "## **7. What is the Method Resolution Order (MRO) in Python? How can you retrieve it programmatically?**"
      ],
      "metadata": {
        "id": "2Wg-S8ds_Sf0"
      }
    },
    {
      "cell_type": "markdown",
      "source": [
        "### The Method Resolution Order (MRO) is the order in which Python looks for a method or attribute in a hierarchy of classes during inheritance. When a class is derived from multiple classes (as in multiple or hybrid inheritance), Python follows a specific order to resolve method or attribute references. This order ensures that methods are inherited in a consistent and predictable manner.\n",
        "\n",
        "### Python follows the C3 linearization algorithm (also known as the C3 superclass linearization) to determine the MRO. This algorithm ensures that:\n",
        "\n",
        "### A class is always searched before its parent classes.\n",
        "###In the case of multiple inheritance, child classes are prioritized over parent classes.\n",
        "### The order of inheritance as declared is respected."
      ],
      "metadata": {
        "id": "v2YeHVnqAPt5"
      }
    },
    {
      "cell_type": "markdown",
      "source": [
        "### You can retrieve the MRO in Python using:\n",
        "\n",
        "### The __ mro __ attribute: This attribute returns a tuple representing the method resolution order.\n",
        "### The mro() method: This method returns a list representing the method resolution order.\n",
        "### The help() function: It can display the MRO when invoked on a class."
      ],
      "metadata": {
        "id": "gO5he9rqAgtZ"
      }
    },
    {
      "cell_type": "markdown",
      "source": [
        "### 1. Using __ mro __ Attribute"
      ],
      "metadata": {
        "id": "LCxw_Z1Vz1bZ"
      }
    },
    {
      "cell_type": "code",
      "source": [],
      "metadata": {
        "colab": {
          "base_uri": "https://localhost:8080/"
        },
        "id": "htzRob2mz5el",
        "outputId": "bda7902a-7ba7-4aae-f0bd-f62eff384d53"
      },
      "execution_count": 15,
      "outputs": [
        {
          "metadata": {
            "tags": null
          },
          "name": "stdout",
          "output_type": "stream",
          "text": [
            "(<class '__main__.C'>, <class '__main__.B'>, <class '__main__.A'>, <class 'object'>)\n"
          ]
        }
      ]
    },
    {
      "cell_type": "markdown",
      "source": [
        "### 2. Using mro() Method"
      ],
      "metadata": {
        "id": "EO2vLTKw0FDZ"
      }
    },
    {
      "cell_type": "code",
      "source": [
        "class A:\n",
        "    pass\n",
        "\n",
        "class B(A):\n",
        "    pass\n",
        "\n",
        "class C(B):\n",
        "    pass\n",
        "\n",
        "print(C.mro())\n"
      ],
      "metadata": {
        "colab": {
          "base_uri": "https://localhost:8080/"
        },
        "id": "atn38yUV0EBd",
        "outputId": "6efa3902-98b5-42be-fdba-3415836f4183"
      },
      "execution_count": 16,
      "outputs": [
        {
          "output_type": "stream",
          "name": "stdout",
          "text": [
            "[<class '__main__.C'>, <class '__main__.B'>, <class '__main__.A'>, <class 'object'>]\n"
          ]
        }
      ]
    },
    {
      "cell_type": "markdown",
      "source": [
        "### 3. Using the help() Function"
      ],
      "metadata": {
        "id": "YyoT35Bv0mcX"
      }
    },
    {
      "cell_type": "code",
      "source": [
        "help(C)\n"
      ],
      "metadata": {
        "colab": {
          "base_uri": "https://localhost:8080/"
        },
        "id": "nrrRneTX0oxO",
        "outputId": "cd53bd8e-37ee-49d8-8551-421f3de454fa"
      },
      "execution_count": 17,
      "outputs": [
        {
          "output_type": "stream",
          "name": "stdout",
          "text": [
            "Help on class C in module __main__:\n",
            "\n",
            "class C(B)\n",
            " |  Method resolution order:\n",
            " |      C\n",
            " |      B\n",
            " |      A\n",
            " |      builtins.object\n",
            " |  \n",
            " |  Data descriptors inherited from A:\n",
            " |  \n",
            " |  __dict__\n",
            " |      dictionary for instance variables (if defined)\n",
            " |  \n",
            " |  __weakref__\n",
            " |      list of weak references to the object (if defined)\n",
            "\n"
          ]
        }
      ]
    },
    {
      "cell_type": "markdown",
      "source": [
        "## **8. Create an abstract base class `Shape` with an abstract method `area()`. Then create two subclasses `Circle` and `Rectangle` that implement the `area()` method.**\n",
        "\n",
        "\n"
      ],
      "metadata": {
        "id": "5TT3Bhe301Ww"
      }
    },
    {
      "cell_type": "markdown",
      "source": [
        "### To create an abstract base class in Python, we use the ABC module from the abc library, and we mark abstract methods using the @abstractmethod decorator. The abstract class itself cannot be instantiated directly and must be subclassed.\n",
        "\n",
        "### Here’s an example where we define an abstract class Shape with an abstract method area(). We then implement two subclasses, Circle and Rectangle, which provide their own implementations of the area() method."
      ],
      "metadata": {
        "id": "3fyou-1J1f8V"
      }
    },
    {
      "cell_type": "code",
      "source": [
        "from abc import ABC, abstractmethod\n",
        "import math\n",
        "\n",
        "# Abstract base class\n",
        "class Shape(ABC):\n",
        "\n",
        "    @abstractmethod\n",
        "    def area(self):\n",
        "        pass  # Abstract method, must be implemented by subclasses\n",
        "\n",
        "# Subclass Circle\n",
        "class Circle(Shape):\n",
        "\n",
        "    def __init__(self, radius):\n",
        "        self.radius = radius\n",
        "\n",
        "    def area(self):\n",
        "        return math.pi * self.radius ** 2  # Area of a circle is πr²\n",
        "\n",
        "# Subclass Rectangle\n",
        "class Rectangle(Shape):\n",
        "\n",
        "    def __init__(self, width, height):\n",
        "        self.width = width\n",
        "        self.height = height\n",
        "\n",
        "    def area(self):\n",
        "        return self.width * self.height  # Area of a rectangle is width * height\n",
        "\n",
        "# Example usage\n",
        "circle = Circle(5)\n",
        "rectangle = Rectangle(4, 6)\n",
        "\n",
        "print(f\"Area of Circle: {circle.area()}\")\n",
        "print(f\"Area of Rectangle: {rectangle.area()}\")\n"
      ],
      "metadata": {
        "colab": {
          "base_uri": "https://localhost:8080/"
        },
        "id": "kFwMwTDg1m2d",
        "outputId": "a9fa2706-1684-430b-f678-3f6c5d662cd2"
      },
      "execution_count": 18,
      "outputs": [
        {
          "output_type": "stream",
          "name": "stdout",
          "text": [
            "Area of Circle: 78.53981633974483\n",
            "Area of Rectangle: 24\n"
          ]
        }
      ]
    },
    {
      "cell_type": "markdown",
      "source": [
        "## **9. Demonstrate polymorphism by creating a function that can work with different shape objects to calculate and print their areas.**\n"
      ],
      "metadata": {
        "id": "qaFale3z2APU"
      }
    },
    {
      "cell_type": "markdown",
      "source": [
        "\n",
        "### Polymorphism in Python allows you to define methods in a way that the same method can operate on objects of different classes. This concept is particularly useful when working with inheritance, where different subclasses can have their own implementations of methods defined in a base class.\n",
        "\n",
        "### To demonstrate polymorphism, we'll create a function that accepts different shape objects (such as Circle and Rectangle) and calls their respective area() method, regardless of their specific type. As long as the object implements the area() method, the function will work with it."
      ],
      "metadata": {
        "id": "r1O9k-z12mdL"
      }
    },
    {
      "cell_type": "code",
      "source": [
        "from abc import ABC, abstractmethod\n",
        "import math\n",
        "\n",
        "# Abstract base class\n",
        "class Shape(ABC):\n",
        "\n",
        "    @abstractmethod\n",
        "    def area(self):\n",
        "        pass  # Abstract method, must be implemented by subclasses\n",
        "\n",
        "# Subclass Circle\n",
        "class Circle(Shape):\n",
        "\n",
        "    def __init__(self, radius):\n",
        "        self.radius = radius\n",
        "\n",
        "    def area(self):\n",
        "        return math.pi * self.radius ** 2  # Area of a circle is πr²\n",
        "\n",
        "# Subclass Rectangle\n",
        "class Rectangle(Shape):\n",
        "\n",
        "    def __init__(self, width, height):\n",
        "        self.width = width\n",
        "        self.height = height\n",
        "\n",
        "    def area(self):\n",
        "        return self.width * self.height  # Area of a rectangle is width * height\n",
        "\n",
        "# Polymorphic function\n",
        "def print_area(shape):\n",
        "    print(f\"The area of the shape is: {shape.area()}\")\n",
        "\n",
        "# Example usage\n",
        "circle = Circle(5)\n",
        "rectangle = Rectangle(3, 8)\n",
        "\n",
        "# Polymorphism in action: the same function works with different shapes\n",
        "print_area(circle)\n",
        "print_area(rectangle)"
      ],
      "metadata": {
        "colab": {
          "base_uri": "https://localhost:8080/"
        },
        "id": "JuRf0erd2Lsz",
        "outputId": "86496436-2c49-4904-ff69-3115a27d306a"
      },
      "execution_count": 20,
      "outputs": [
        {
          "output_type": "stream",
          "name": "stdout",
          "text": [
            "The area of the shape is: 78.53981633974483\n",
            "The area of the shape is: 24\n"
          ]
        }
      ]
    },
    {
      "cell_type": "markdown",
      "source": [
        "## **10. Implement encapsulation in a `BankAccount` class with private attributes for `balance` and account_number`. Include methods for deposit, withdrawal, and balance inquiry.**\n"
      ],
      "metadata": {
        "id": "ZLX7a0q23fKg"
      }
    },
    {
      "cell_type": "markdown",
      "source": [
        "### Encapsulation in Python can be achieved by making class attributes private using double underscores (__). This prevents direct access to the attributes from outside the class, ensuring that they are accessed or modified only through public methods.\n",
        "\n",
        "### Here’s how you can implement encapsulation in a BankAccount class with private attributes for balance and account_number."
      ],
      "metadata": {
        "id": "Nk6B_0jS4rqQ"
      }
    },
    {
      "cell_type": "code",
      "source": [
        "class BankAccount:\n",
        "    def __init__(self, account_holder, account_number, balance=0.0):\n",
        "        self.__account_holder = account_holder\n",
        "        self.__account_number = account_number  # Private attribute\n",
        "        self.__balance = balance  # Private attribute\n",
        "\n",
        "    # Getter method for account number (optional if you need to access it)\n",
        "    def get_account_number(self):\n",
        "        return self.__account_number\n",
        "\n",
        "    # Deposit method\n",
        "    def deposit(self, amount):\n",
        "        \"\"\"Adds the deposit amount to the account balance.\"\"\"\n",
        "        if amount > 0:\n",
        "            self.__balance += amount\n",
        "            print(f\"Deposited {amount}. New balance is {self.__balance}.\")\n",
        "        else:\n",
        "            print(\"Deposit amount must be positive.\")\n",
        "\n",
        "    # Withdrawal method\n",
        "    def withdraw(self, amount):\n",
        "        \"\"\"Withdraws the specified amount from the account balance if sufficient balance is available.\"\"\"\n",
        "        if amount > 0:\n",
        "            if self.__balance >= amount:\n",
        "                self.__balance -= amount\n",
        "                print(f\"Withdrew {amount}. New balance is {self.__balance}.\")\n",
        "            else:\n",
        "                print(f\"Insufficient balance. Available balance is {self.__balance}.\")\n",
        "        else:\n",
        "            print(\"Withdrawal amount must be positive.\")\n",
        "\n",
        "    # Balance inquiry method\n",
        "    def check_balance(self):\n",
        "        \"\"\"Returns the current balance.\"\"\"\n",
        "        return f\"Current balance is {self.__balance}.\"\n",
        "\n",
        "# Example usage\n",
        "account = BankAccount(\"Rohit sharma\", \"3595457585\", 25000.0)\n",
        "\n",
        "# Accessing the private balance or account number directly would raise an error:\n",
        "# print(account.__balance)  # This would raise an AttributeError\n",
        "\n",
        "# Deposit money\n",
        "account.deposit(500)\n",
        "# Withdraw money\n",
        "account.withdraw(300)\n",
        "# Check balance\n",
        "print(account.check_balance())\n",
        "# Accessing account number via the getter method (optional, not mandatory for encapsulation)\n",
        "print(f\"Account Number: {account.get_account_number()}\")\n"
      ],
      "metadata": {
        "colab": {
          "base_uri": "https://localhost:8080/"
        },
        "id": "RVzoob7V4yGY",
        "outputId": "a3f2e6bb-84a7-4ae7-b88e-d26f328fcdcd"
      },
      "execution_count": 22,
      "outputs": [
        {
          "output_type": "stream",
          "name": "stdout",
          "text": [
            "Deposited 500. New balance is 25500.0.\n",
            "Withdrew 300. New balance is 25200.0.\n",
            "Current balance is 25200.0.\n",
            "Account Number: 3595457585\n"
          ]
        }
      ]
    },
    {
      "cell_type": "markdown",
      "source": [
        "### Explanation:\n",
        "### Private Attributes:\n",
        "\n",
        "### __account_number: Made private by prefixing it with double underscores.\n",
        "### __balance: Made private similarly.\n",
        "### These attributes cannot be accessed directly from outside the class (e.g., account.__balance will raise an error).\n",
        "\n",
        "### Public Methods:\n",
        "\n",
        "### deposit(amount): Adds the specified amount to the balance if it’s positive.\n",
        "### withdraw(amount): Withdraws the amount if it’s positive and sufficient balance is available.\n",
        "### check_balance(): Returns the current balance.\n",
        "### get_account_number(): (Optional) Provides controlled access to the private __account_number attribute.\n",
        "\n",
        "### Encapsulation:\n",
        "### The private attributes (__account_number and __balance) can only be accessed or modified using the public methods provided. This protects the data and ensures proper validation (e.g., no direct access to modify balance without using deposit() or withdraw())."
      ],
      "metadata": {
        "id": "ID_g1cvS5eoN"
      }
    },
    {
      "cell_type": "markdown",
      "source": [
        "## **11. Write a class that overrides the `__str__` and `__add__` magic methods. What will these methods allow you to do?**\n"
      ],
      "metadata": {
        "id": "cIVp1q_46iRS"
      }
    },
    {
      "cell_type": "markdown",
      "source": [
        "### In Python, magic methods (also known as dunder methods, short for \"double underscore\") allow you to override and customize the behavior of built-in operations such as string representations, arithmetic operations, comparisons, and more.\n",
        "\n",
        "### The __ str __ and __add__ methods are two commonly overridden magic methods:\n",
        "\n",
        "### __ st __: This method is called when you try to get the string representation of an object (for example, when you use print() or str() on an object). By overriding __str__, you can customize how your class objects are represented as strings.\n",
        "\n",
        "### __ add__: This method is called when you use the + operator between objects. By overriding __add__, you can define how objects of your class are added together.\n",
        "\n",
        "### Example: Overriding __ str __ and __ add __\n",
        "### Here's a simple class that overrides both the __ str __ and __ add __ methods:"
      ],
      "metadata": {
        "id": "nNJWsdr97UeR"
      }
    },
    {
      "cell_type": "code",
      "source": [
        "class Point:\n",
        "    def __init__(self, x, y):\n",
        "        self.x = x\n",
        "        self.y = y\n",
        "\n",
        "    # Override __str__ method\n",
        "    def __str__(self):\n",
        "        return f\"Point({self.x}, {self.y})\"\n",
        "\n",
        "    # Override __add__ method\n",
        "    def __add__(self, other):\n",
        "        if isinstance(other, Point):\n",
        "            return Point(self.x + other.x, self.y + other.y)\n",
        "        else:\n",
        "            return NotImplemented\n",
        "\n",
        "# Example usage\n",
        "point1 = Point(9, 3)\n",
        "point2 = Point(10, 5)\n",
        "\n",
        "# Print points (invokes __str__)\n",
        "print(point1)\n",
        "\n",
        "\n"
      ],
      "metadata": {
        "colab": {
          "base_uri": "https://localhost:8080/"
        },
        "id": "T-_1w06C7o0G",
        "outputId": "b8af5e8e-b2ed-4690-f97d-95bdc5f6efc4"
      },
      "execution_count": 23,
      "outputs": [
        {
          "output_type": "stream",
          "name": "stdout",
          "text": [
            "Point(9, 3)\n"
          ]
        }
      ]
    },
    {
      "cell_type": "code",
      "source": [
        "print(point2)"
      ],
      "metadata": {
        "colab": {
          "base_uri": "https://localhost:8080/"
        },
        "id": "U6RvZmth8BYT",
        "outputId": "26247404-3ec1-4417-84db-ddd04f2ae1f2"
      },
      "execution_count": 24,
      "outputs": [
        {
          "output_type": "stream",
          "name": "stdout",
          "text": [
            "Point(10, 5)\n"
          ]
        }
      ]
    },
    {
      "cell_type": "code",
      "source": [
        "# Add points (invokes __add__)\n",
        "point3 = point1 + point2\n",
        "print(point3)"
      ],
      "metadata": {
        "colab": {
          "base_uri": "https://localhost:8080/"
        },
        "id": "fkf4hq5g8GAI",
        "outputId": "4a1c83cc-82b3-43c6-a7cb-931fb11cf701"
      },
      "execution_count": 25,
      "outputs": [
        {
          "output_type": "stream",
          "name": "stdout",
          "text": [
            "Point(19, 8)\n"
          ]
        }
      ]
    },
    {
      "cell_type": "markdown",
      "source": [
        "## **12. Create a decorator that measures and prints the execution time of a function.**"
      ],
      "metadata": {
        "id": "OlHCOX3g9GxE"
      }
    },
    {
      "cell_type": "markdown",
      "source": [
        "### You can create a decorator in Python that measures and prints the execution time of a function using the time module. The decorator will wrap the original function, measure how long it takes to run, and then print the execution time.\n",
        "\n",
        "### Here's how to do it:"
      ],
      "metadata": {
        "id": "091u7f9o9kg8"
      }
    },
    {
      "cell_type": "code",
      "source": [
        "import time\n",
        "\n",
        "# Define the decorator\n",
        "def execution_time_decorator(func):\n",
        "    def wrapper(*args, **kwargs):\n",
        "        start_time = time.time()  # Record start time\n",
        "        result = func(*args, **kwargs)  # Call the original function\n",
        "        end_time = time.time()  # Record end time\n",
        "        execution_time = end_time - start_time  # Calculate execution time\n",
        "        print(f\"Execution time of {func.__name__}: {execution_time:.6f} seconds\")\n",
        "        return result  # Return the result of the original function\n",
        "    return wrapper\n",
        "\n",
        "# Example function to demonstrate the decorator\n",
        "@execution_time_decorator\n",
        "def example_function():\n",
        "    time.sleep(2)  # Simulate a time-consuming task (sleep for 2 seconds)\n",
        "    return \"Function completed\"\n",
        "\n",
        "# Call the decorated function\n",
        "print(example_function())\n"
      ],
      "metadata": {
        "colab": {
          "base_uri": "https://localhost:8080/"
        },
        "id": "Fx7SVbpZ9p26",
        "outputId": "f9849cba-690d-4693-e12b-813790314aa1"
      },
      "execution_count": 26,
      "outputs": [
        {
          "output_type": "stream",
          "name": "stdout",
          "text": [
            "Execution time of example_function: 2.002082 seconds\n",
            "Function completed\n"
          ]
        }
      ]
    },
    {
      "cell_type": "markdown",
      "source": [
        "## **13. Explain the concept of the Diamond Problem in multiple inheritance. How does Python resolve it?**\n"
      ],
      "metadata": {
        "id": "tvS4VIZw9ztK"
      }
    },
    {
      "cell_type": "markdown",
      "source": [
        "### The Diamond Problem occurs in programming languages that allow multiple inheritance (where a class can inherit from more than one class). It refers to an ambiguity that arises when a class inherits from two or more classes that share a common base class. The name \"diamond problem\" comes from the shape of the class inheritance diagram when visualized:"
      ],
      "metadata": {
        "id": "6AJmyUhA-MgJ"
      }
    },
    {
      "cell_type": "code",
      "source": [
        "      A\n",
        "     / \\\n",
        "    B   C\n",
        "     \\ /\n",
        "      D\n"
      ],
      "metadata": {
        "id": "AFR6HMBW-SjL"
      },
      "execution_count": null,
      "outputs": []
    },
    {
      "cell_type": "markdown",
      "source": [
        "### In this structure:\n",
        "\n",
        "### B and C inherit from A.\n",
        "### D inherits from both B and C.\n",
        "### The diamond problem arises when class D tries to access methods or attributes from class A. Since B and C both inherit from A, it creates ambiguity as to which version of A’s methods or attributes should be inherited by D (the one from B or the one from C?)."
      ],
      "metadata": {
        "id": "s8MzxSPm-a5Q"
      }
    },
    {
      "cell_type": "markdown",
      "source": [
        "### Python uses a technique called Method Resolution Order (MRO) to resolve this problem. The MRO determines the order in which classes are searched when looking for a method. Python follows the C3 Linearization Algorithm to create a predictable and consistent MRO for all classes in a multiple inheritance hierarchy.\n",
        "\n",
        "### Python resolves the diamond problem by:\n",
        "###Linearizing the class hierarchy, which creates a single, ordered sequence of classes to search.\n",
        "### This ensures that methods or attributes are inherited in a well-defined order, preventing ambiguity.\n",
        "### Example of the Diamond Problem in Python\n",
        "### Here’s an example that demonstrates the diamond problem in Python:"
      ],
      "metadata": {
        "id": "3YfruE1B-q7J"
      }
    },
    {
      "cell_type": "code",
      "source": [
        "class A:\n",
        "    def greet(self):\n",
        "        print(\"Hello from A\")\n",
        "\n",
        "class B(A):\n",
        "    def greet(self):\n",
        "        print(\"Hello from B\")\n",
        "\n",
        "class C(A):\n",
        "    def greet(self):\n",
        "        print(\"Hello from C\")\n",
        "\n",
        "class D(B, C):  # Multiple inheritance\n",
        "    pass\n",
        "\n",
        "# Example usage\n",
        "d = D()\n",
        "d.greet()  # Which greet() method is called?\n"
      ],
      "metadata": {
        "colab": {
          "base_uri": "https://localhost:8080/"
        },
        "id": "ax89Btrx-2xc",
        "outputId": "9035018f-be51-4604-c821-551e7123183d"
      },
      "execution_count": 28,
      "outputs": [
        {
          "output_type": "stream",
          "name": "stdout",
          "text": [
            "Hello from B\n"
          ]
        }
      ]
    },
    {
      "cell_type": "markdown",
      "source": [
        "### In Python, the method from B is called because of the MRO. To see how Python resolves the method order, you can use the __ mro __ attribute or the mro() method."
      ],
      "metadata": {
        "id": "_YjINVfF_LFg"
      }
    },
    {
      "cell_type": "code",
      "source": [
        "print(D.__mro__)\n"
      ],
      "metadata": {
        "colab": {
          "base_uri": "https://localhost:8080/"
        },
        "id": "BjVqg9op_AHM",
        "outputId": "88c46a9a-71c6-463b-9fd5-48afe49e54d5"
      },
      "execution_count": 29,
      "outputs": [
        {
          "output_type": "stream",
          "name": "stdout",
          "text": [
            "(<class '__main__.D'>, <class '__main__.B'>, <class '__main__.C'>, <class '__main__.A'>, <class 'object'>)\n"
          ]
        }
      ]
    },
    {
      "cell_type": "markdown",
      "source": [
        "### The output shows the order in which Python searches the classes when resolving methods:\n",
        "\n",
        "### First, it looks in D.\n",
        "### If not found in D, it looks in B.\n",
        "### Then in C.\n",
        "### Finally, in A."
      ],
      "metadata": {
        "id": "Ft0LSqD4_aZO"
      }
    },
    {
      "cell_type": "markdown",
      "source": [
        "## **Conclusion**\n",
        "The Diamond Problem in multiple inheritance is a common issue in object-oriented programming when a class can inherit from multiple classes. In Python, this problem is resolved using the Method Resolution Order (MRO), which uses the C3 Linearization Algorithm to create a well-defined search order for method lookups, ensuring predictable behavior when inheriting from multiple classes.\n",
        "\n",
        "\n",
        "\n",
        "\n",
        "\n",
        "\n"
      ],
      "metadata": {
        "id": "wezixMxq_rkd"
      }
    },
    {
      "cell_type": "markdown",
      "source": [
        "## **14. Write a class method that keeps track of the number of instances created from a class.**"
      ],
      "metadata": {
        "id": "IKC5uRGR_8cd"
      }
    },
    {
      "cell_type": "markdown",
      "source": [
        "### You can write a class method to keep track of the number of instances created by using a class attribute to store the count and a class method to retrieve it.\n",
        "\n",
        "### Here’s an example:"
      ],
      "metadata": {
        "id": "PIgJmPpUBN8x"
      }
    },
    {
      "cell_type": "code",
      "source": [
        "class InstanceCounter:\n",
        "    instance_count = 0  # Class attribute to keep track of the number of instances\n",
        "\n",
        "    def __init__(self):\n",
        "        InstanceCounter.instance_count += 1  # Increment the count each time a new instance is created\n",
        "\n",
        "    @classmethod\n",
        "    def get_instance_count(cls):\n",
        "        \"\"\"Class method to get the number of instances created.\"\"\"\n",
        "        return cls.instance_count\n",
        "\n",
        "# Example usage\n",
        "obj1 = InstanceCounter()\n",
        "obj2 = InstanceCounter()\n",
        "obj3 = InstanceCounter()\n",
        "\n",
        "# Get the count of instances created\n",
        "print(f\"Number of instances created: {InstanceCounter.get_instance_count()}\")\n"
      ],
      "metadata": {
        "colab": {
          "base_uri": "https://localhost:8080/"
        },
        "id": "K4bRwTSnAEAY",
        "outputId": "c32d1ce6-3d88-46a6-e9dd-471b372aa331"
      },
      "execution_count": 30,
      "outputs": [
        {
          "output_type": "stream",
          "name": "stdout",
          "text": [
            "Number of instances created: 3\n"
          ]
        }
      ]
    },
    {
      "cell_type": "markdown",
      "source": [
        "### **Explanation**:\n",
        "\n",
        "### **Class Attribute**(instance_count):\n",
        "\n",
        "### This attribute belongs to the class itself, not to any particular instance.\n",
        "### It's initialized to 0 and is shared by all instances of the class.\n",
        "\n",
        "### **Constructor**(__init__):\n",
        "Every time a new object is created, the constructor is called, and instance_count is incremented by 1.\n",
        "### **Class Method** (get_instance_count):\n",
        "### The @classmethod decorator makes the method a class method, which means it can access the class attribute (instance_count) and return the current count.\n",
        "### The cls parameter refers to the class itself (InstanceCounter), allowing the method to work even if the class name changes."
      ],
      "metadata": {
        "id": "Epv-ovgrBf1x"
      }
    },
    {
      "cell_type": "markdown",
      "source": [
        "### **conclusion**\n",
        "### This approach tracks the number of instances created from the class InstanceCounter. Every time an instance is created, the instance_count class attribute is incremented, and you can retrieve the current count using the get_instance_count() class method.\n"
      ],
      "metadata": {
        "id": "J8Eecccw0rwc"
      }
    },
    {
      "cell_type": "markdown",
      "source": [
        "## **15. Implement a static method in a class that checks if a given year is a leap year.**"
      ],
      "metadata": {
        "id": "f_o52twZ2cxW"
      }
    },
    {
      "cell_type": "markdown",
      "source": [
        "### To implement a static method in Python that checks if a given year is a leap year, you can use the @staticmethod decorator. A static method doesn't access or modify class or instance-specific data, making it perfect for utility functions like checking whether a year is a leap year."
      ],
      "metadata": {
        "id": "LGgzE3ZX2x_P"
      }
    },
    {
      "cell_type": "code",
      "source": [
        "class YearChecker:\n",
        "    @staticmethod\n",
        "    def is_leap_year(year):\n",
        "        \"\"\"Check if a given year is a leap year.\"\"\"\n",
        "        if (year % 4 == 0 and year % 100 != 0) or (year % 400 == 0):\n",
        "            return True\n",
        "        else:\n",
        "            return False\n",
        "\n",
        "# Example usage\n",
        "print(YearChecker.is_leap_year(2020))\n"
      ],
      "metadata": {
        "colab": {
          "base_uri": "https://localhost:8080/"
        },
        "id": "PhdM75yJ03Jy",
        "outputId": "9cb50362-7352-4443-b287-fd54181cdbec"
      },
      "execution_count": 32,
      "outputs": [
        {
          "output_type": "stream",
          "name": "stdout",
          "text": [
            "True\n"
          ]
        }
      ]
    },
    {
      "cell_type": "code",
      "source": [
        "print(YearChecker.is_leap_year(1800))"
      ],
      "metadata": {
        "colab": {
          "base_uri": "https://localhost:8080/"
        },
        "id": "k63sg_ss3AS0",
        "outputId": "3e2e1c58-6c5e-456b-f1c4-831ce0380db2"
      },
      "execution_count": 33,
      "outputs": [
        {
          "output_type": "stream",
          "name": "stdout",
          "text": [
            "False\n"
          ]
        }
      ]
    },
    {
      "cell_type": "code",
      "source": [
        "print(YearChecker.is_leap_year(2024))"
      ],
      "metadata": {
        "colab": {
          "base_uri": "https://localhost:8080/"
        },
        "id": "hQmxSXN43T8m",
        "outputId": "65cfa874-9d32-4a4f-fabe-5c42e34e21a9"
      },
      "execution_count": 34,
      "outputs": [
        {
          "output_type": "stream",
          "name": "stdout",
          "text": [
            "True\n"
          ]
        }
      ]
    },
    {
      "cell_type": "code",
      "source": [
        "print(YearChecker.is_leap_year(2028))"
      ],
      "metadata": {
        "colab": {
          "base_uri": "https://localhost:8080/"
        },
        "id": "8hgleXL43Wnt",
        "outputId": "330eaee4-efbf-4ede-e7b0-f449682b7ce1"
      },
      "execution_count": 35,
      "outputs": [
        {
          "output_type": "stream",
          "name": "stdout",
          "text": [
            "True\n"
          ]
        }
      ]
    },
    {
      "cell_type": "markdown",
      "source": [
        "### **Conclusion:**\n",
        "The static method is_leap_year can be called directly on the class (YearChecker.is_leap_year()) and checks whether the given year is a leap year without needing an instance of the class. This makes the method efficient and well-suited for utility tasks.\n"
      ],
      "metadata": {
        "id": "8nHGsx6b32id"
      }
    },
    {
      "cell_type": "code",
      "source": [],
      "metadata": {
        "id": "Jpq47RHy3tvL"
      },
      "execution_count": null,
      "outputs": []
    }
  ]
}